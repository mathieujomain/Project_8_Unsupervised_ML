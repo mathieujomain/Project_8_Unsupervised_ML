{
 "cells": [
  {
   "cell_type": "code",
   "execution_count": null,
   "id": "17078933",
   "metadata": {},
   "outputs": [],
   "source": [
    "#Import usefull libraries\n",
    "import numpy as np\n",
    "import pandas as pd\n",
    "\n",
    "import matplotlib.pyplot as plt\n",
    "%matplotlib inline\n",
    "import seaborn as sns\n",
    "\n",
    "from datetime import datetime\n",
    "\n",
    "from sklearn.cluster import KMeans\n",
    "from sklearn.cluster import DBSCAN"
   ]
  },
  {
   "cell_type": "code",
   "execution_count": null,
   "id": "741e7c04",
   "metadata": {},
   "outputs": [],
   "source": [
    "#Import data\n",
    "data = pd.read_csv(r'/Users/edgartome_1/IronHack/IronProjects/Project8/Data/uber-raw-data-apr14.csv')\n",
    "\n",
    "#Overview\n",
    "data.head()"
   ]
  },
  {
   "cell_type": "code",
   "execution_count": null,
   "id": "d57662a8",
   "metadata": {},
   "outputs": [],
   "source": [
    "#Printing data infos: data types, missimng values, shape\n",
    "#The dataframe is composed of 4 columns and 564516 rows, no missing values\n",
    "\n",
    "data.info()"
   ]
  },
  {
   "cell_type": "code",
   "execution_count": null,
   "id": "baf00c03",
   "metadata": {},
   "outputs": [],
   "source": [
    "#We have to change the Date/Time data type\n",
    "\n",
    "data['Date/Time'] = pd.to_datetime(data['Date/Time'], format='%m/%d/%Y %H:%M:%S')"
   ]
  },
  {
   "cell_type": "code",
   "execution_count": null,
   "id": "0cf92e5e",
   "metadata": {},
   "outputs": [],
   "source": [
    "#Checking result\n",
    "\n",
    "data.head(5)"
   ]
  },
  {
   "cell_type": "code",
   "execution_count": null,
   "id": "9d3cb1ba",
   "metadata": {},
   "outputs": [],
   "source": [
    "#Checking result\n",
    "\n",
    "data.dtypes"
   ]
  },
  {
   "cell_type": "code",
   "execution_count": null,
   "id": "95817f66",
   "metadata": {},
   "outputs": [],
   "source": [
    "#Extract hour from datetime\n",
    "\n",
    "data['Hour'] = pd.to_datetime(data['Date/Time']).dt.hour"
   ]
  },
  {
   "cell_type": "code",
   "execution_count": null,
   "id": "a498035b",
   "metadata": {},
   "outputs": [],
   "source": [
    "#Extract day\n",
    "\n",
    "data['Day'] = data['Date/Time'].dt.dayofweek"
   ]
  },
  {
   "cell_type": "code",
   "execution_count": null,
   "id": "7c043382",
   "metadata": {},
   "outputs": [],
   "source": [
    "#Making sure columns has been created has intended\n",
    "\n",
    "data.head()"
   ]
  },
  {
   "cell_type": "code",
   "execution_count": null,
   "id": "6017e015",
   "metadata": {},
   "outputs": [],
   "source": [
    "#View the days\n",
    "\n",
    "data.Day.value_counts()"
   ]
  },
  {
   "cell_type": "code",
   "execution_count": null,
   "id": "a3f601b8",
   "metadata": {},
   "outputs": [],
   "source": [
    "#View of the hours\n",
    "\n",
    "data.Hour.value_counts()"
   ]
  },
  {
   "cell_type": "code",
   "execution_count": null,
   "id": "63532e3f",
   "metadata": {},
   "outputs": [],
   "source": [
    "#Encondig the Base colum of data frame\n",
    "\n",
    "from sklearn.preprocessing import LabelEncoder\n",
    "\n",
    "tst = data.copy()\n",
    "\n",
    "le = LabelEncoder()\n",
    "\n",
    "data['Base'] = le.fit_transform(data.Base.values)"
   ]
  },
  {
   "cell_type": "code",
   "execution_count": null,
   "id": "0d4ecef5",
   "metadata": {},
   "outputs": [],
   "source": [
    "#View the types of columns\n",
    "\n",
    "data.dtypes"
   ]
  },
  {
   "cell_type": "code",
   "execution_count": null,
   "id": "1a66885c",
   "metadata": {},
   "outputs": [],
   "source": [
    "#Checking values of Base column\n",
    "#We can see there are 5 Bases\n",
    "\n",
    "data.Base.value_counts()"
   ]
  },
  {
   "cell_type": "markdown",
   "id": "b6b70bf7",
   "metadata": {},
   "source": [
    "## EDA"
   ]
  },
  {
   "cell_type": "code",
   "execution_count": null,
   "id": "d66d9a9f",
   "metadata": {},
   "outputs": [],
   "source": [
    "#Check repartition of the car, coordonates speaking\n",
    "\n",
    "sns.boxplot(data=data.Lat)"
   ]
  },
  {
   "cell_type": "code",
   "execution_count": null,
   "id": "0aa04867",
   "metadata": {},
   "outputs": [],
   "source": [
    "#Check repartition of the car, coordonates speaking\n",
    "\n",
    "sns.boxplot(data=data.Lon)"
   ]
  },
  {
   "cell_type": "code",
   "execution_count": null,
   "id": "69d85952",
   "metadata": {},
   "outputs": [],
   "source": [
    "#data.to_csv(r'/uber_cleaned.csv')"
   ]
  },
  {
   "cell_type": "markdown",
   "id": "fcca6f39",
   "metadata": {},
   "source": [
    "## Kmean clustering"
   ]
  },
  {
   "cell_type": "code",
   "execution_count": null,
   "id": "921c9a3a",
   "metadata": {},
   "outputs": [],
   "source": [
    "#Take a sample of 10%\n",
    "data_sample = data.sample(int(data.shape[0]*0.1))\n",
    "data_sample.shape"
   ]
  },
  {
   "cell_type": "code",
   "execution_count": null,
   "id": "8491a45f",
   "metadata": {},
   "outputs": [],
   "source": [
    "#Drop the datetime column as the dtypes bring trouble\n",
    "\n",
    "data_sample = data_sample.drop(columns='Date/Time')"
   ]
  },
  {
   "cell_type": "code",
   "execution_count": null,
   "id": "ba48657a",
   "metadata": {},
   "outputs": [],
   "source": [
    "data_sample.dtypes"
   ]
  },
  {
   "cell_type": "code",
   "execution_count": null,
   "id": "9a2a3b6b",
   "metadata": {},
   "outputs": [],
   "source": [
    "#Scaling data\n",
    "\n",
    "from sklearn.preprocessing import StandardScaler\n",
    "\n",
    "x = data_sample[['Lat', 'Lon']]  #sample because it will allow to do faster code\n",
    "\n",
    "scaler = StandardScaler()\n",
    "\n",
    "print(scaler.fit(x))\n",
    "print(scaler.mean_)\n",
    "\n",
    "uber_scale = scaler.transform(x)\n",
    "print(uber_scale)"
   ]
  },
  {
   "cell_type": "code",
   "execution_count": null,
   "id": "9f7157d5",
   "metadata": {},
   "outputs": [],
   "source": [
    "#Defining right amount of cluster using Elbow method\n",
    "#5 clusters with kmeans\n",
    "\n",
    "from yellowbrick.cluster import KElbowVisualizer\n",
    "\n",
    "model = KMeans()\n",
    "\n",
    "visualizer = KElbowVisualizer(estimator = model, k = (2,10))\n",
    "\n",
    "visualizer.fit(x)\n",
    "\n",
    "visualizer.poof()"
   ]
  },
  {
   "cell_type": "code",
   "execution_count": null,
   "id": "3154355b",
   "metadata": {},
   "outputs": [],
   "source": [
    "#Create model / predict\n",
    "\n",
    "model = KMeans(5)\n",
    "\n",
    "y_kmeans = model.fit_predict(x)"
   ]
  },
  {
   "cell_type": "code",
   "execution_count": null,
   "id": "ea183df6",
   "metadata": {},
   "outputs": [],
   "source": [
    "np.unique(y_kmeans, return_counts=True)"
   ]
  },
  {
   "cell_type": "code",
   "execution_count": null,
   "id": "af9eabba",
   "metadata": {},
   "outputs": [],
   "source": [
    "#Adding label to df\n",
    "data_sample['labels_kmeans'] = model.labels_\n"
   ]
  },
  {
   "cell_type": "code",
   "execution_count": null,
   "id": "e1ace673",
   "metadata": {},
   "outputs": [],
   "source": [
    "#Plotting\n",
    "\n",
    "sns.scatterplot(data=data_sample, x='Lon', y='Lat', hue='labels_kmeans', palette='deep')\n",
    "plt.show()"
   ]
  },
  {
   "cell_type": "markdown",
   "id": "f2830d0f",
   "metadata": {},
   "source": [
    "## DBSCAN clustering"
   ]
  },
  {
   "cell_type": "code",
   "execution_count": null,
   "id": "ed32072f",
   "metadata": {},
   "outputs": [],
   "source": [
    "from sklearn.neighbors import NearestNeighbors"
   ]
  },
  {
   "cell_type": "code",
   "execution_count": null,
   "id": "ee7d1778",
   "metadata": {},
   "outputs": [],
   "source": [
    "#Selecting hyperparameters for dbscan\n",
    "\n",
    "def get_kdist_plot(X=None, k=None, radius_nbrs=1.0):\n",
    "\n",
    "    nbrs = NearestNeighbors(n_neighbors=k, radius=radius_nbrs).fit(x)\n",
    "\n",
    "    # For each point, compute distances to its k-nearest neighbors\n",
    "    distances, indices = nbrs.kneighbors(x) \n",
    "                                       \n",
    "    distances = np.sort(distances, axis=0)\n",
    "    distances = distances[:, k-1]\n",
    "\n",
    "    # Plot the sorted K-nearest neighbor distance for each point in the dataset\n",
    "    plt.figure(figsize=(8,8))\n",
    "    plt.plot(distances)\n",
    "    plt.xlabel('Points/Objects in the dataset', fontsize=12)\n",
    "    plt.ylabel('Sorted {}-nearest neighbor distance'.format(k), fontsize=12)\n",
    "    plt.grid(True, linestyle=\"--\", color='black', alpha=0.4)\n",
    "    plt.show()\n",
    "    plt.close()\n",
    "\n",
    "\n",
    "k = 2 * x.shape[-1] - 1 # k=2*{dim(dataset)} - 1\n",
    "get_kdist_plot(X=x, k=k)"
   ]
  },
  {
   "cell_type": "code",
   "execution_count": null,
   "id": "a255a325",
   "metadata": {},
   "outputs": [],
   "source": [
    "#DBSCAN clustering\n",
    "#We can see in previous graph that eps is more or less 0.01\n",
    "\n",
    "dbscan = DBSCAN(eps=0.01, min_samples=20, n_jobs=-1)\n",
    "\n",
    "dbscan.fit(x)\n",
    "\n",
    "y_dbscan = dbscan.fit_predict(x)"
   ]
  },
  {
   "cell_type": "code",
   "execution_count": null,
   "id": "3cd3c05d",
   "metadata": {},
   "outputs": [],
   "source": [
    "#Adding label to df\n",
    "\n",
    "data_sample['labels_dbscan'] = dbscan.labels_"
   ]
  },
  {
   "cell_type": "code",
   "execution_count": null,
   "id": "d13a4ac8",
   "metadata": {},
   "outputs": [],
   "source": [
    "#Plotting\n",
    "\n",
    "sns.scatterplot(data=data_sample, x='Lon', y='Lat', hue='labels_dbscan', palette='deep')\n",
    "plt.show()"
   ]
  },
  {
   "cell_type": "markdown",
   "id": "96022acc",
   "metadata": {},
   "source": [
    "## Agglomerative clustering"
   ]
  },
  {
   "cell_type": "code",
   "execution_count": null,
   "id": "f5130d65",
   "metadata": {},
   "outputs": [],
   "source": [
    "from sklearn.cluster import AgglomerativeClustering\n",
    "import scipy.cluster.hierarchy as sch"
   ]
  },
  {
   "cell_type": "code",
   "execution_count": null,
   "id": "d6be4c4c",
   "metadata": {},
   "outputs": [],
   "source": [
    "#To defined the numer of clusters\n",
    "\n",
    "dendrogram = sch.dendrogram(sch.linkage(x, method='ward'))"
   ]
  },
  {
   "cell_type": "code",
   "execution_count": null,
   "id": "cb16d3f6",
   "metadata": {},
   "outputs": [],
   "source": [
    "#Agglomerative clustering\n",
    "#We can see in previous graph that number of clusters is 5\n",
    "\n",
    "clustering = AgglomerativeClustering(n_clusters=5).fit(x)\n",
    "\n",
    "y_agg = clustering.fit_predict(x)\n",
    "\n",
    "#Adding label to df\n",
    "\n",
    "data_sample['labels_agg'] = clustering.labels_"
   ]
  },
  {
   "cell_type": "code",
   "execution_count": null,
   "id": "d3fac851",
   "metadata": {},
   "outputs": [],
   "source": [
    "#Plotting\n",
    "sns.scatterplot(data=data_sample, x='Lon', y='Lat', hue='labels_agg', palette='deep')\n",
    "plt.show()"
   ]
  },
  {
   "cell_type": "code",
   "execution_count": null,
   "id": "b227fd35",
   "metadata": {},
   "outputs": [],
   "source": [
    "data_sample.to_csv(r'/Users/edgartome_1/IronHack/IronProjects/Project8/Data/uber_cleaned_clusters_edgar.csv')"
   ]
  },
  {
   "cell_type": "markdown",
   "id": "4ad67ce7",
   "metadata": {},
   "source": [
    "## Comparison"
   ]
  },
  {
   "cell_type": "code",
   "execution_count": null,
   "id": "ea5a6ba2",
   "metadata": {},
   "outputs": [],
   "source": [
    "from sklearn import metrics\n",
    "print('KMeans')\n",
    "print('=============')\n",
    "print(\"Silhouette Coefficient: %0.3f\" % metrics.silhouette_score(data_sample,data_sample['labels_kmeans'],  metric = 'sqeuclidean'))\n",
    "print(\"calinski_harabasz: %0.3f\" % metrics.calinski_harabasz_score(data_sample,data_sample['labels_kmeans'] ))\n",
    "\n",
    "print('_____________')\n",
    "print('DBSCAN')\n",
    "print('=============')\n",
    "print(\"Silhouette Coefficient: %0.3f\" % metrics.silhouette_score(data_sample,data_sample['labels_dbscan'],  metric = 'sqeuclidean'))\n",
    "print(\"calinski_harabasz: %0.3f\" % metrics.calinski_harabasz_score(data_sample,data_sample['labels_dbscan'] ))\n",
    "\n",
    "print('_____________')\n",
    "print('Agglomerative')\n",
    "print('=============')\n",
    "print(\"Silhouette Coefficient: %0.3f\" % metrics.silhouette_score(data_sample,data_sample['labels_agg'],  metric = 'sqeuclidean'))\n",
    "print(\"calinski_harabasz: %0.3f\" % metrics.calinski_harabasz_score(data_sample,data_sample['labels_agg'] ))"
   ]
  },
  {
   "cell_type": "markdown",
   "id": "e54b8850",
   "metadata": {},
   "source": [
    "## Map"
   ]
  },
  {
   "cell_type": "code",
   "execution_count": null,
   "id": "196b0838",
   "metadata": {},
   "outputs": [],
   "source": [
    "data_sample = pd.read_csv(r'/Users/edgartome_1/IronHack/IronProjects/Project8/Data/uber_cleaned_clusters_edgar.csv')"
   ]
  },
  {
   "cell_type": "code",
   "execution_count": null,
   "id": "fd0aabcd",
   "metadata": {},
   "outputs": [],
   "source": [
    "#Library to plot map\n",
    "import folium"
   ]
  },
  {
   "cell_type": "code",
   "execution_count": null,
   "id": "e83f05b0",
   "metadata": {},
   "outputs": [],
   "source": [
    "data_sample.head()"
   ]
  },
  {
   "cell_type": "code",
   "execution_count": null,
   "id": "79ce6623",
   "metadata": {},
   "outputs": [],
   "source": [
    "def map(data, cluster_column, Day):\n",
    "    m = folium.Map(location=[data.Lat.mean(), data.Lon.mean()], zoom_start=9, tiles='OpenStreet Map')\n",
    "    for _, row in data.iterrows():\n",
    "        if row[cluster_column] == -1 and row[Day]:\n",
    "            cluster_colour = '#006400'\n",
    "        elif row[cluster_column] == 0 and row[Day]:\n",
    "            cluster_colour = '#FF5233'\n",
    "            folium.CircleMarker(\n",
    "                location= [row['Lat'], row['Lon']],\n",
    "                radius=1,\n",
    "                popup= row[cluster_column],\n",
    "                color=cluster_colour,\n",
    "                fill=True,\n",
    "                fill_color=cluster_colour\n",
    "            ).add_to(m)\n",
    "        elif row[cluster_column] == 1 and row[Day]:\n",
    "            cluster_colour = '#641E16'\n",
    "            folium.CircleMarker(\n",
    "                location= [row['Lat'], row['Lon']],\n",
    "                radius=1,\n",
    "                popup= row[cluster_column],\n",
    "                color=cluster_colour,\n",
    "                fill=True,\n",
    "                fill_color=cluster_colour\n",
    "            ).add_to(m)\n",
    "        elif row[cluster_column] == 2 and row[Day]:\n",
    "            cluster_colour = '#7AFF33'\n",
    "            folium.CircleMarker(\n",
    "                location= [row['Lat'], row['Lon']],\n",
    "                radius=1,\n",
    "                popup= row[cluster_column],\n",
    "                color=cluster_colour,\n",
    "                fill=True,\n",
    "                fill_color=cluster_colour\n",
    "            ).add_to(m)\n",
    "        elif row[cluster_column] == 3 and row[Day]:\n",
    "            cluster_colour = '#33FFF9'\n",
    "            folium.CircleMarker(\n",
    "                location= [row['Lat'], row['Lon']],\n",
    "                radius=1,\n",
    "                popup= row[cluster_column],\n",
    "                color=cluster_colour,\n",
    "                fill=True,\n",
    "                fill_color=cluster_colour\n",
    "            ).add_to(m)\n",
    "        elif row[cluster_column] == 4 and row[Day]:\n",
    "            cluster_colour = '#6133FF'\n",
    "            folium.CircleMarker(\n",
    "                location= [row['Lat'], row['Lon']],\n",
    "                radius=1,\n",
    "                popup= row[cluster_column],\n",
    "                color=cluster_colour,\n",
    "                fill=True,\n",
    "                fill_color=cluster_colour\n",
    "            ).add_to(m)\n",
    "        elif row[cluster_column] == 5 and row[Day]:\n",
    "            cluster_colour = '#FF33FC'\n",
    "            folium.CircleMarker(\n",
    "                location= [row['Lat'], row['Lon']],\n",
    "                radius=1,\n",
    "                popup= row[cluster_column],\n",
    "                color=cluster_colour,\n",
    "                fill=True,\n",
    "                fill_color=cluster_colour\n",
    "            ).add_to(m)\n",
    "    return m "
   ]
  },
  {
   "cell_type": "code",
   "execution_count": null,
   "id": "02d97c32",
   "metadata": {},
   "outputs": [],
   "source": [
    "#Day from 0 to 6\n",
    "#Map result on April, Thursday for Model of Agglomerative clustering\n",
    "\n",
    "map(data_sample, 'labels_agg', 3) #Day 3"
   ]
  },
  {
   "cell_type": "code",
   "execution_count": null,
   "id": "0df84d10",
   "metadata": {},
   "outputs": [],
   "source": [
    "#Day from 0 to 6\n",
    "#Map result on April, Thursday for Model of DBSCAN clustering\n",
    "\n",
    "map(data_sample, 'labels_dbscan', 3) #Day 3"
   ]
  },
  {
   "cell_type": "code",
   "execution_count": null,
   "id": "03d72420",
   "metadata": {},
   "outputs": [],
   "source": [
    "#Day from 0 to 6\n",
    "#Map result on April, Thursday for Model of Kmenans clustering\n",
    "\n",
    "map(data_sample, 'labels_kmeans', 3) #Day 3"
   ]
  },
  {
   "cell_type": "markdown",
   "id": "37ab5302",
   "metadata": {},
   "source": [
    "## Best Model\n",
    "### Model of Agglomerative clustering\n",
    "\n",
    "#### Acording with the visualizations and the values of Silhouette Coefficient: 0.019 calinski_harabasz: 477.214"
   ]
  },
  {
   "cell_type": "markdown",
   "id": "1b95039a",
   "metadata": {},
   "source": [
    "## Running September data with the model"
   ]
  },
  {
   "cell_type": "code",
   "execution_count": null,
   "id": "743e45d4",
   "metadata": {},
   "outputs": [],
   "source": [
    "#Import\n",
    "sept = pd.read_csv(r'/Users/edgartome_1/IronHack/IronProjects/Project8/Data/uber-raw-data-sep14.csv')"
   ]
  },
  {
   "cell_type": "code",
   "execution_count": null,
   "id": "e93b8ca1",
   "metadata": {},
   "outputs": [],
   "source": [
    "sept.head()"
   ]
  },
  {
   "cell_type": "code",
   "execution_count": null,
   "id": "e17395be",
   "metadata": {},
   "outputs": [],
   "source": [
    "#Clean data like we clean the first dataset\n",
    "\n",
    "sept['Date/Time'] = pd.to_datetime(sept['Date/Time'], format='%m/%d/%Y %H:%M:%S')"
   ]
  },
  {
   "cell_type": "code",
   "execution_count": null,
   "id": "2cfd7a56",
   "metadata": {},
   "outputs": [],
   "source": [
    "#Create column with hour\n",
    "\n",
    "sept['Hour'] = pd.to_datetime(sept['Date/Time']).dt.hour"
   ]
  },
  {
   "cell_type": "code",
   "execution_count": null,
   "id": "496842c6",
   "metadata": {},
   "outputs": [],
   "source": [
    "#Create column with hour\n",
    "\n",
    "sept['Day'] = sept['Date/Time'].dt.dayofweek"
   ]
  },
  {
   "cell_type": "code",
   "execution_count": null,
   "id": "cc3edd4e",
   "metadata": {},
   "outputs": [],
   "source": [
    "#To encode the Base column\n",
    "from sklearn.preprocessing import LabelEncoder\n",
    "tst = sept.copy()\n",
    "le = LabelEncoder()\n",
    "sept['Base'] = le.fit_transform(sept.Base.values)"
   ]
  },
  {
   "cell_type": "code",
   "execution_count": null,
   "id": "b2ab18ec",
   "metadata": {},
   "outputs": [],
   "source": [
    "#To transform the data in same size as the sample\n",
    "\n",
    "sept_sample = sept[:56451]\n",
    "sept_sample.shape"
   ]
  },
  {
   "cell_type": "code",
   "execution_count": null,
   "id": "10cdab59",
   "metadata": {},
   "outputs": [],
   "source": [
    "#Drop column od Date/Time tahe is already on colum day and hour\n",
    "\n",
    "sept_sample = sept_sample.drop(columns='Date/Time')"
   ]
  },
  {
   "cell_type": "code",
   "execution_count": null,
   "id": "3ebfa80f",
   "metadata": {},
   "outputs": [],
   "source": [
    "sept_sample.head()"
   ]
  },
  {
   "cell_type": "code",
   "execution_count": null,
   "id": "d779cb24",
   "metadata": {},
   "outputs": [],
   "source": [
    "sept_sample['labels_agg'] = clustering.labels_"
   ]
  },
  {
   "cell_type": "code",
   "execution_count": null,
   "id": "df81baf4",
   "metadata": {},
   "outputs": [],
   "source": [
    "#Map result on September, Thursday\n",
    "map(sept_sample, 'labels_agg', 3)"
   ]
  },
  {
   "cell_type": "code",
   "execution_count": null,
   "id": "4fca0163",
   "metadata": {},
   "outputs": [],
   "source": []
  },
  {
   "cell_type": "code",
   "execution_count": null,
   "id": "15638e9c",
   "metadata": {},
   "outputs": [],
   "source": []
  },
  {
   "cell_type": "code",
   "execution_count": null,
   "id": "d2be340b",
   "metadata": {},
   "outputs": [],
   "source": []
  }
 ],
 "metadata": {
  "kernelspec": {
   "display_name": "Python 3 (ipykernel)",
   "language": "python",
   "name": "python3"
  },
  "language_info": {
   "codemirror_mode": {
    "name": "ipython",
    "version": 3
   },
   "file_extension": ".py",
   "mimetype": "text/x-python",
   "name": "python",
   "nbconvert_exporter": "python",
   "pygments_lexer": "ipython3",
   "version": "3.9.7"
  }
 },
 "nbformat": 4,
 "nbformat_minor": 5
}
